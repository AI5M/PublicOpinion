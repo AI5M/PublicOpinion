{
 "cells": [
  {
   "cell_type": "code",
   "execution_count": 1,
   "metadata": {},
   "outputs": [],
   "source": [
    "#2018/5/15改\n",
    "import requests\n",
    "import pandas\n",
    "from bs4 import BeautifulSoup"
   ]
  },
  {
   "cell_type": "code",
   "execution_count": 2,
   "metadata": {},
   "outputs": [],
   "source": [
    "website = 'https://www.ptt.cc/cls/1'\n",
    "global board_path,over18,nPage\n",
    "board_path = list() #看板的路徑\n",
    "over18 = dict({'yes':'yes'}) #處理18禁 之後都直接post不get\n",
    "nPage = 10 #看要爬幾頁"
   ]
  },
  {
   "cell_type": "code",
   "execution_count": 3,
   "metadata": {},
   "outputs": [],
   "source": [
    "def getTitle(board_soup):\n",
    "    #get next N page\n",
    "    for k in range(0,nPage):\n",
    "        print('page:'+str(k)+'/'+str(nPage),end='\\r')\n",
    "        #first page url\n",
    "        if k!=0:\n",
    "            if len(board_soup.select('.btn.wide'))==0: #沒有上一頁\n",
    "                break\n",
    "            nextPage = 'https://www.ptt.cc'+board_soup.select('.btn.wide')[1]['href']\n",
    "            board_html = requests.post(nextPage,data=over18)\n",
    "            board_soup = BeautifulSoup(board_html.content, 'html.parser')\n",
    "        #get title and url\n",
    "        for node in board_soup.select('.title a'):\n",
    "            content_title = node.text\n",
    "            #print(content_title,end='  ')\n",
    "            content_url = 'https://www.ptt.cc'+node['href']\n",
    "            content_html = requests.post(content_url,data=over18)\n",
    "            content_soup = BeautifulSoup(content_html.content, 'html.parser')\n",
    "            content_date = content_soup.select('.article-meta-value')[3].text.strip()\n",
    "            #print(content_date)\n",
    "            #print(content_url)\n",
    "            content = content_soup.select('#main-content')[0].text.strip()\n",
    "            #remove first line and comments\n",
    "            content = content[content.find('\\n'):content.find('--')]\n",
    "            #print(content)\n",
    "            #print('---------------------------------------------------------------------------')\n",
    "    print('Finish       ')"
   ]
  },
  {
   "cell_type": "code",
   "execution_count": 4,
   "metadata": {},
   "outputs": [],
   "source": [
    "def getBoard(url):\n",
    "    board_html = requests.post(url,data=over18)\n",
    "    board_soup = BeautifulSoup(board_html.content,'html.parser')\n",
    "    if len(board_soup.select('.board-label'))==0: #不是樹葉節點的板\n",
    "        if len(board_soup.select('.b-ent'))==0: #壞掉的版裡面沒東西\n",
    "            board_path.pop()\n",
    "            return\n",
    "        for board_url in board_soup.select('.board'):\n",
    "            board_name = board_url.select('.board-name')[0].text.strip()\n",
    "            if board_name=='0ClassRoot': #這個就會回到分類看板\n",
    "                continue\n",
    "            board_path.append(board_name)\n",
    "            board_url = 'https://www.ptt.cc'+board_url['href'].strip()\n",
    "            getBoard(board_url)\n",
    "        board_path.pop()\n",
    "    else: #是樹葉節點的板 像八卦版那樣 上面有個\"看板\"\n",
    "        for path in board_path:\n",
    "            print(path,end='->')\n",
    "        print(board_soup.select('.board')[0].text)\n",
    "        print('https://www.ptt.cc'+board_soup.select('.board')[0]['href'])\n",
    "        board_path.pop()\n",
    "        getTitle(board_soup)"
   ]
  },
  {
   "cell_type": "code",
   "execution_count": 5,
   "metadata": {
    "scrolled": true
   },
   "outputs": [
    {
     "name": "stdout",
     "output_type": "stream",
     "text": [
      "A_Group->OtherBBS->ChinaBBS->CNBBS->SMTH->看板 SMTH\n",
      "https://www.ptt.cc/bbs/SMTH/index.html\n",
      "Finish       \n",
      "A_Group->OtherBBS->ChinaBBS->CNBBS->PKU->看板 PKU\n",
      "https://www.ptt.cc/bbs/PKU/index.html\n",
      "Finish       \n",
      "A_Group->OtherBBS->ChinaBBS->CNBBS->dopai->看板 dopai\n",
      "https://www.ptt.cc/bbs/dopai/index.html\n",
      "page:8/10\r"
     ]
    },
    {
     "ename": "KeyError",
     "evalue": "'href'",
     "output_type": "error",
     "traceback": [
      "\u001b[1;31m---------------------------------------------------------------------------\u001b[0m",
      "\u001b[1;31mKeyError\u001b[0m                                  Traceback (most recent call last)",
      "\u001b[1;32m<ipython-input-5-43de5f309533>\u001b[0m in \u001b[0;36m<module>\u001b[1;34m()\u001b[0m\n\u001b[1;32m----> 1\u001b[1;33m \u001b[0mgetBoard\u001b[0m\u001b[1;33m(\u001b[0m\u001b[0mwebsite\u001b[0m\u001b[1;33m)\u001b[0m\u001b[1;33m\u001b[0m\u001b[0m\n\u001b[0m",
      "\u001b[1;32m<ipython-input-4-9f237c4863d5>\u001b[0m in \u001b[0;36mgetBoard\u001b[1;34m(url)\u001b[0m\n\u001b[0;32m     12\u001b[0m             \u001b[0mboard_path\u001b[0m\u001b[1;33m.\u001b[0m\u001b[0mappend\u001b[0m\u001b[1;33m(\u001b[0m\u001b[0mboard_name\u001b[0m\u001b[1;33m)\u001b[0m\u001b[1;33m\u001b[0m\u001b[0m\n\u001b[0;32m     13\u001b[0m             \u001b[0mboard_url\u001b[0m \u001b[1;33m=\u001b[0m \u001b[1;34m'https://www.ptt.cc'\u001b[0m\u001b[1;33m+\u001b[0m\u001b[0mboard_url\u001b[0m\u001b[1;33m[\u001b[0m\u001b[1;34m'href'\u001b[0m\u001b[1;33m]\u001b[0m\u001b[1;33m.\u001b[0m\u001b[0mstrip\u001b[0m\u001b[1;33m(\u001b[0m\u001b[1;33m)\u001b[0m\u001b[1;33m\u001b[0m\u001b[0m\n\u001b[1;32m---> 14\u001b[1;33m             \u001b[0mgetBoard\u001b[0m\u001b[1;33m(\u001b[0m\u001b[0mboard_url\u001b[0m\u001b[1;33m)\u001b[0m\u001b[1;33m\u001b[0m\u001b[0m\n\u001b[0m\u001b[0;32m     15\u001b[0m         \u001b[0mboard_path\u001b[0m\u001b[1;33m.\u001b[0m\u001b[0mpop\u001b[0m\u001b[1;33m(\u001b[0m\u001b[1;33m)\u001b[0m\u001b[1;33m\u001b[0m\u001b[0m\n\u001b[0;32m     16\u001b[0m     \u001b[1;32melse\u001b[0m\u001b[1;33m:\u001b[0m \u001b[1;31m#是樹葉節點的板 像八卦版那樣 上面有個\"看板\"\u001b[0m\u001b[1;33m\u001b[0m\u001b[0m\n",
      "\u001b[1;32m<ipython-input-4-9f237c4863d5>\u001b[0m in \u001b[0;36mgetBoard\u001b[1;34m(url)\u001b[0m\n\u001b[0;32m     12\u001b[0m             \u001b[0mboard_path\u001b[0m\u001b[1;33m.\u001b[0m\u001b[0mappend\u001b[0m\u001b[1;33m(\u001b[0m\u001b[0mboard_name\u001b[0m\u001b[1;33m)\u001b[0m\u001b[1;33m\u001b[0m\u001b[0m\n\u001b[0;32m     13\u001b[0m             \u001b[0mboard_url\u001b[0m \u001b[1;33m=\u001b[0m \u001b[1;34m'https://www.ptt.cc'\u001b[0m\u001b[1;33m+\u001b[0m\u001b[0mboard_url\u001b[0m\u001b[1;33m[\u001b[0m\u001b[1;34m'href'\u001b[0m\u001b[1;33m]\u001b[0m\u001b[1;33m.\u001b[0m\u001b[0mstrip\u001b[0m\u001b[1;33m(\u001b[0m\u001b[1;33m)\u001b[0m\u001b[1;33m\u001b[0m\u001b[0m\n\u001b[1;32m---> 14\u001b[1;33m             \u001b[0mgetBoard\u001b[0m\u001b[1;33m(\u001b[0m\u001b[0mboard_url\u001b[0m\u001b[1;33m)\u001b[0m\u001b[1;33m\u001b[0m\u001b[0m\n\u001b[0m\u001b[0;32m     15\u001b[0m         \u001b[0mboard_path\u001b[0m\u001b[1;33m.\u001b[0m\u001b[0mpop\u001b[0m\u001b[1;33m(\u001b[0m\u001b[1;33m)\u001b[0m\u001b[1;33m\u001b[0m\u001b[0m\n\u001b[0;32m     16\u001b[0m     \u001b[1;32melse\u001b[0m\u001b[1;33m:\u001b[0m \u001b[1;31m#是樹葉節點的板 像八卦版那樣 上面有個\"看板\"\u001b[0m\u001b[1;33m\u001b[0m\u001b[0m\n",
      "\u001b[1;32m<ipython-input-4-9f237c4863d5>\u001b[0m in \u001b[0;36mgetBoard\u001b[1;34m(url)\u001b[0m\n\u001b[0;32m     12\u001b[0m             \u001b[0mboard_path\u001b[0m\u001b[1;33m.\u001b[0m\u001b[0mappend\u001b[0m\u001b[1;33m(\u001b[0m\u001b[0mboard_name\u001b[0m\u001b[1;33m)\u001b[0m\u001b[1;33m\u001b[0m\u001b[0m\n\u001b[0;32m     13\u001b[0m             \u001b[0mboard_url\u001b[0m \u001b[1;33m=\u001b[0m \u001b[1;34m'https://www.ptt.cc'\u001b[0m\u001b[1;33m+\u001b[0m\u001b[0mboard_url\u001b[0m\u001b[1;33m[\u001b[0m\u001b[1;34m'href'\u001b[0m\u001b[1;33m]\u001b[0m\u001b[1;33m.\u001b[0m\u001b[0mstrip\u001b[0m\u001b[1;33m(\u001b[0m\u001b[1;33m)\u001b[0m\u001b[1;33m\u001b[0m\u001b[0m\n\u001b[1;32m---> 14\u001b[1;33m             \u001b[0mgetBoard\u001b[0m\u001b[1;33m(\u001b[0m\u001b[0mboard_url\u001b[0m\u001b[1;33m)\u001b[0m\u001b[1;33m\u001b[0m\u001b[0m\n\u001b[0m\u001b[0;32m     15\u001b[0m         \u001b[0mboard_path\u001b[0m\u001b[1;33m.\u001b[0m\u001b[0mpop\u001b[0m\u001b[1;33m(\u001b[0m\u001b[1;33m)\u001b[0m\u001b[1;33m\u001b[0m\u001b[0m\n\u001b[0;32m     16\u001b[0m     \u001b[1;32melse\u001b[0m\u001b[1;33m:\u001b[0m \u001b[1;31m#是樹葉節點的板 像八卦版那樣 上面有個\"看板\"\u001b[0m\u001b[1;33m\u001b[0m\u001b[0m\n",
      "\u001b[1;32m<ipython-input-4-9f237c4863d5>\u001b[0m in \u001b[0;36mgetBoard\u001b[1;34m(url)\u001b[0m\n\u001b[0;32m     12\u001b[0m             \u001b[0mboard_path\u001b[0m\u001b[1;33m.\u001b[0m\u001b[0mappend\u001b[0m\u001b[1;33m(\u001b[0m\u001b[0mboard_name\u001b[0m\u001b[1;33m)\u001b[0m\u001b[1;33m\u001b[0m\u001b[0m\n\u001b[0;32m     13\u001b[0m             \u001b[0mboard_url\u001b[0m \u001b[1;33m=\u001b[0m \u001b[1;34m'https://www.ptt.cc'\u001b[0m\u001b[1;33m+\u001b[0m\u001b[0mboard_url\u001b[0m\u001b[1;33m[\u001b[0m\u001b[1;34m'href'\u001b[0m\u001b[1;33m]\u001b[0m\u001b[1;33m.\u001b[0m\u001b[0mstrip\u001b[0m\u001b[1;33m(\u001b[0m\u001b[1;33m)\u001b[0m\u001b[1;33m\u001b[0m\u001b[0m\n\u001b[1;32m---> 14\u001b[1;33m             \u001b[0mgetBoard\u001b[0m\u001b[1;33m(\u001b[0m\u001b[0mboard_url\u001b[0m\u001b[1;33m)\u001b[0m\u001b[1;33m\u001b[0m\u001b[0m\n\u001b[0m\u001b[0;32m     15\u001b[0m         \u001b[0mboard_path\u001b[0m\u001b[1;33m.\u001b[0m\u001b[0mpop\u001b[0m\u001b[1;33m(\u001b[0m\u001b[1;33m)\u001b[0m\u001b[1;33m\u001b[0m\u001b[0m\n\u001b[0;32m     16\u001b[0m     \u001b[1;32melse\u001b[0m\u001b[1;33m:\u001b[0m \u001b[1;31m#是樹葉節點的板 像八卦版那樣 上面有個\"看板\"\u001b[0m\u001b[1;33m\u001b[0m\u001b[0m\n",
      "\u001b[1;32m<ipython-input-4-9f237c4863d5>\u001b[0m in \u001b[0;36mgetBoard\u001b[1;34m(url)\u001b[0m\n\u001b[0;32m     12\u001b[0m             \u001b[0mboard_path\u001b[0m\u001b[1;33m.\u001b[0m\u001b[0mappend\u001b[0m\u001b[1;33m(\u001b[0m\u001b[0mboard_name\u001b[0m\u001b[1;33m)\u001b[0m\u001b[1;33m\u001b[0m\u001b[0m\n\u001b[0;32m     13\u001b[0m             \u001b[0mboard_url\u001b[0m \u001b[1;33m=\u001b[0m \u001b[1;34m'https://www.ptt.cc'\u001b[0m\u001b[1;33m+\u001b[0m\u001b[0mboard_url\u001b[0m\u001b[1;33m[\u001b[0m\u001b[1;34m'href'\u001b[0m\u001b[1;33m]\u001b[0m\u001b[1;33m.\u001b[0m\u001b[0mstrip\u001b[0m\u001b[1;33m(\u001b[0m\u001b[1;33m)\u001b[0m\u001b[1;33m\u001b[0m\u001b[0m\n\u001b[1;32m---> 14\u001b[1;33m             \u001b[0mgetBoard\u001b[0m\u001b[1;33m(\u001b[0m\u001b[0mboard_url\u001b[0m\u001b[1;33m)\u001b[0m\u001b[1;33m\u001b[0m\u001b[0m\n\u001b[0m\u001b[0;32m     15\u001b[0m         \u001b[0mboard_path\u001b[0m\u001b[1;33m.\u001b[0m\u001b[0mpop\u001b[0m\u001b[1;33m(\u001b[0m\u001b[1;33m)\u001b[0m\u001b[1;33m\u001b[0m\u001b[0m\n\u001b[0;32m     16\u001b[0m     \u001b[1;32melse\u001b[0m\u001b[1;33m:\u001b[0m \u001b[1;31m#是樹葉節點的板 像八卦版那樣 上面有個\"看板\"\u001b[0m\u001b[1;33m\u001b[0m\u001b[0m\n",
      "\u001b[1;32m<ipython-input-4-9f237c4863d5>\u001b[0m in \u001b[0;36mgetBoard\u001b[1;34m(url)\u001b[0m\n\u001b[0;32m     20\u001b[0m         \u001b[0mprint\u001b[0m\u001b[1;33m(\u001b[0m\u001b[1;34m'https://www.ptt.cc'\u001b[0m\u001b[1;33m+\u001b[0m\u001b[0mboard_soup\u001b[0m\u001b[1;33m.\u001b[0m\u001b[0mselect\u001b[0m\u001b[1;33m(\u001b[0m\u001b[1;34m'.board'\u001b[0m\u001b[1;33m)\u001b[0m\u001b[1;33m[\u001b[0m\u001b[1;36m0\u001b[0m\u001b[1;33m]\u001b[0m\u001b[1;33m[\u001b[0m\u001b[1;34m'href'\u001b[0m\u001b[1;33m]\u001b[0m\u001b[1;33m)\u001b[0m\u001b[1;33m\u001b[0m\u001b[0m\n\u001b[0;32m     21\u001b[0m         \u001b[0mboard_path\u001b[0m\u001b[1;33m.\u001b[0m\u001b[0mpop\u001b[0m\u001b[1;33m(\u001b[0m\u001b[1;33m)\u001b[0m\u001b[1;33m\u001b[0m\u001b[0m\n\u001b[1;32m---> 22\u001b[1;33m         \u001b[0mgetTitle\u001b[0m\u001b[1;33m(\u001b[0m\u001b[0mboard_soup\u001b[0m\u001b[1;33m)\u001b[0m\u001b[1;33m\u001b[0m\u001b[0m\n\u001b[0m",
      "\u001b[1;32m<ipython-input-3-bbdf4edeb4cb>\u001b[0m in \u001b[0;36mgetTitle\u001b[1;34m(board_soup)\u001b[0m\n\u001b[0;32m      7\u001b[0m             \u001b[1;32mif\u001b[0m \u001b[0mlen\u001b[0m\u001b[1;33m(\u001b[0m\u001b[0mboard_soup\u001b[0m\u001b[1;33m.\u001b[0m\u001b[0mselect\u001b[0m\u001b[1;33m(\u001b[0m\u001b[1;34m'.btn.wide'\u001b[0m\u001b[1;33m)\u001b[0m\u001b[1;33m)\u001b[0m\u001b[1;33m==\u001b[0m\u001b[1;36m0\u001b[0m\u001b[1;33m:\u001b[0m \u001b[1;31m#沒有上一頁\u001b[0m\u001b[1;33m\u001b[0m\u001b[0m\n\u001b[0;32m      8\u001b[0m                 \u001b[1;32mbreak\u001b[0m\u001b[1;33m\u001b[0m\u001b[0m\n\u001b[1;32m----> 9\u001b[1;33m             \u001b[0mnextPage\u001b[0m \u001b[1;33m=\u001b[0m \u001b[1;34m'https://www.ptt.cc'\u001b[0m\u001b[1;33m+\u001b[0m\u001b[0mboard_soup\u001b[0m\u001b[1;33m.\u001b[0m\u001b[0mselect\u001b[0m\u001b[1;33m(\u001b[0m\u001b[1;34m'.btn.wide'\u001b[0m\u001b[1;33m)\u001b[0m\u001b[1;33m[\u001b[0m\u001b[1;36m1\u001b[0m\u001b[1;33m]\u001b[0m\u001b[1;33m[\u001b[0m\u001b[1;34m'href'\u001b[0m\u001b[1;33m]\u001b[0m\u001b[1;33m\u001b[0m\u001b[0m\n\u001b[0m\u001b[0;32m     10\u001b[0m             \u001b[0mboard_html\u001b[0m \u001b[1;33m=\u001b[0m \u001b[0mrequests\u001b[0m\u001b[1;33m.\u001b[0m\u001b[0mpost\u001b[0m\u001b[1;33m(\u001b[0m\u001b[0mnextPage\u001b[0m\u001b[1;33m,\u001b[0m\u001b[0mdata\u001b[0m\u001b[1;33m=\u001b[0m\u001b[0mover18\u001b[0m\u001b[1;33m)\u001b[0m\u001b[1;33m\u001b[0m\u001b[0m\n\u001b[0;32m     11\u001b[0m             \u001b[0mboard_soup\u001b[0m \u001b[1;33m=\u001b[0m \u001b[0mBeautifulSoup\u001b[0m\u001b[1;33m(\u001b[0m\u001b[0mboard_html\u001b[0m\u001b[1;33m.\u001b[0m\u001b[0mcontent\u001b[0m\u001b[1;33m,\u001b[0m \u001b[1;34m'html.parser'\u001b[0m\u001b[1;33m)\u001b[0m\u001b[1;33m\u001b[0m\u001b[0m\n",
      "\u001b[1;32mD:\\Anaconda3\\lib\\site-packages\\bs4\\element.py\u001b[0m in \u001b[0;36m__getitem__\u001b[1;34m(self, key)\u001b[0m\n\u001b[0;32m   1009\u001b[0m         \"\"\"tag[key] returns the value of the 'key' attribute for the tag,\n\u001b[0;32m   1010\u001b[0m         and throws an exception if it's not there.\"\"\"\n\u001b[1;32m-> 1011\u001b[1;33m         \u001b[1;32mreturn\u001b[0m \u001b[0mself\u001b[0m\u001b[1;33m.\u001b[0m\u001b[0mattrs\u001b[0m\u001b[1;33m[\u001b[0m\u001b[0mkey\u001b[0m\u001b[1;33m]\u001b[0m\u001b[1;33m\u001b[0m\u001b[0m\n\u001b[0m\u001b[0;32m   1012\u001b[0m \u001b[1;33m\u001b[0m\u001b[0m\n\u001b[0;32m   1013\u001b[0m     \u001b[1;32mdef\u001b[0m \u001b[0m__iter__\u001b[0m\u001b[1;33m(\u001b[0m\u001b[0mself\u001b[0m\u001b[1;33m)\u001b[0m\u001b[1;33m:\u001b[0m\u001b[1;33m\u001b[0m\u001b[0m\n",
      "\u001b[1;31mKeyError\u001b[0m: 'href'"
     ]
    }
   ],
   "source": [
    "getBoard(website)"
   ]
  },
  {
   "cell_type": "code",
   "execution_count": null,
   "metadata": {},
   "outputs": [],
   "source": []
  }
 ],
 "metadata": {
  "kernelspec": {
   "display_name": "Python 3",
   "language": "python",
   "name": "python3"
  },
  "language_info": {
   "codemirror_mode": {
    "name": "ipython",
    "version": 3
   },
   "file_extension": ".py",
   "mimetype": "text/x-python",
   "name": "python",
   "nbconvert_exporter": "python",
   "pygments_lexer": "ipython3",
   "version": "3.6.4"
  }
 },
 "nbformat": 4,
 "nbformat_minor": 2
}
